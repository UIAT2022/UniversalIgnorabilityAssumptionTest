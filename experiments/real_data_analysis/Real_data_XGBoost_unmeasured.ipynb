{
 "cells": [
  {
   "cell_type": "markdown",
   "metadata": {},
   "source": [
    "# Real data analysis (when confounder is not considered)"
   ]
  },
  {
   "cell_type": "markdown",
   "metadata": {},
   "source": [
    "### Notice\n",
    "\n",
    "Before you implement below codes, you should confirm that R is installed in your PC."
   ]
  },
  {
   "cell_type": "code",
   "execution_count": 55,
   "metadata": {},
   "outputs": [
    {
     "name": "stdout",
     "output_type": "stream",
     "text": [
      "Requirement already satisfied: packages in c:\\programdata\\anaconda3\\lib\\site-packages (0.1.0)\n",
      "Requirement already satisfied: rpy2 in c:\\programdata\\anaconda3\\lib\\site-packages (3.4.5)\n",
      "Requirement already satisfied: cffi>=1.10.0 in c:\\programdata\\anaconda3\\lib\\site-packages (from rpy2) (1.14.5)\n",
      "Requirement already satisfied: tzlocal in c:\\programdata\\anaconda3\\lib\\site-packages (from rpy2) (4.0.1)\n",
      "Requirement already satisfied: pytz in c:\\programdata\\anaconda3\\lib\\site-packages (from rpy2) (2021.1)\n",
      "Requirement already satisfied: jinja2 in c:\\programdata\\anaconda3\\lib\\site-packages (from rpy2) (2.11.3)\n",
      "Requirement already satisfied: pycparser in c:\\programdata\\anaconda3\\lib\\site-packages (from cffi>=1.10.0->rpy2) (2.20)\n",
      "Requirement already satisfied: MarkupSafe>=0.23 in c:\\programdata\\anaconda3\\lib\\site-packages (from jinja2->rpy2) (1.1.1)\n",
      "Requirement already satisfied: tzdata in c:\\programdata\\anaconda3\\lib\\site-packages (from tzlocal->rpy2) (2021.4)\n",
      "Requirement already satisfied: backports.zoneinfo in c:\\programdata\\anaconda3\\lib\\site-packages (from tzlocal->rpy2) (0.2.1)\n",
      "Requirement already satisfied: pytz-deprecation-shim in c:\\programdata\\anaconda3\\lib\\site-packages (from tzlocal->rpy2) (0.1.0.post0)\n"
     ]
    }
   ],
   "source": [
    "!pip install packages rpy2 "
   ]
  },
  {
   "cell_type": "code",
   "execution_count": 56,
   "metadata": {},
   "outputs": [],
   "source": [
    "import uiat # it will takes some time."
   ]
  },
  {
   "cell_type": "code",
   "execution_count": 57,
   "metadata": {},
   "outputs": [],
   "source": [
    "import numpy as np\n",
    "import pandas as pd"
   ]
  },
  {
   "cell_type": "markdown",
   "metadata": {},
   "source": [
    "# EDA"
   ]
  },
  {
   "cell_type": "code",
   "execution_count": 58,
   "metadata": {},
   "outputs": [],
   "source": [
    "df=pd.read_csv(\"forestfires.csv\")"
   ]
  },
  {
   "cell_type": "code",
   "execution_count": 59,
   "metadata": {},
   "outputs": [
    {
     "data": {
      "text/plain": [
       "<matplotlib.collections.PathCollection at 0x9fe6a0>"
      ]
     },
     "execution_count": 59,
     "metadata": {},
     "output_type": "execute_result"
    },
    {
     "data": {
      "image/png": "[encoded data removed]",
      "text/plain": [
       "<Figure size 864x288 with 1 Axes>"
      ]
     },
     "metadata": {
      "needs_background": "light"
     },
     "output_type": "display_data"
    }
   ],
   "source": [
    "import matplotlib.pyplot as plt\n",
    "\n",
    "plt.scatter(df['wind'],df['area'])"
   ]
  },
  {
   "cell_type": "code",
   "execution_count": 60,
   "metadata": {},
   "outputs": [
    {
     "data": {
      "text/html": [
       "<div>\n",
       "<style scoped>\n",
       "    .dataframe tbody tr th:only-of-type {\n",
       "        vertical-align: middle;\n",
       "    }\n",
       "\n",
       "    .dataframe tbody tr th {\n",
       "        vertical-align: top;\n",
       "    }\n",
       "\n",
       "    .dataframe thead th {\n",
       "        text-align: right;\n",
       "    }\n",
       "</style>\n",
       "<table border=\"1\" class=\"dataframe\">\n",
       "  <thead>\n",
       "    <tr style=\"text-align: right;\">\n",
       "      <th></th>\n",
       "      <th>X</th>\n",
       "      <th>Y</th>\n",
       "      <th>FFMC</th>\n",
       "      <th>DMC</th>\n",
       "      <th>DC</th>\n",
       "      <th>ISI</th>\n",
       "      <th>temp</th>\n",
       "      <th>RH</th>\n",
       "      <th>wind</th>\n",
       "      <th>rain</th>\n",
       "      <th>area</th>\n",
       "    </tr>\n",
       "  </thead>\n",
       "  <tbody>\n",
       "    <tr>\n",
       "      <th>count</th>\n",
       "      <td>517.000000</td>\n",
       "      <td>517.000000</td>\n",
       "      <td>517.000000</td>\n",
       "      <td>517.000000</td>\n",
       "      <td>517.000000</td>\n",
       "      <td>517.000000</td>\n",
       "      <td>517.000000</td>\n",
       "      <td>517.000000</td>\n",
       "      <td>517.000000</td>\n",
       "      <td>517.000000</td>\n",
       "      <td>517.000000</td>\n",
       "    </tr>\n",
       "    <tr>\n",
       "      <th>mean</th>\n",
       "      <td>4.669246</td>\n",
       "      <td>4.299807</td>\n",
       "      <td>90.644681</td>\n",
       "      <td>110.872340</td>\n",
       "      <td>547.940039</td>\n",
       "      <td>9.021663</td>\n",
       "      <td>18.889168</td>\n",
       "      <td>44.288201</td>\n",
       "      <td>4.017602</td>\n",
       "      <td>0.021663</td>\n",
       "      <td>12.847292</td>\n",
       "    </tr>\n",
       "    <tr>\n",
       "      <th>std</th>\n",
       "      <td>2.313778</td>\n",
       "      <td>1.229900</td>\n",
       "      <td>5.520111</td>\n",
       "      <td>64.046482</td>\n",
       "      <td>248.066192</td>\n",
       "      <td>4.559477</td>\n",
       "      <td>5.806625</td>\n",
       "      <td>16.317469</td>\n",
       "      <td>1.791653</td>\n",
       "      <td>0.295959</td>\n",
       "      <td>63.655818</td>\n",
       "    </tr>\n",
       "    <tr>\n",
       "      <th>min</th>\n",
       "      <td>1.000000</td>\n",
       "      <td>2.000000</td>\n",
       "      <td>18.700000</td>\n",
       "      <td>1.100000</td>\n",
       "      <td>7.900000</td>\n",
       "      <td>0.000000</td>\n",
       "      <td>2.200000</td>\n",
       "      <td>15.000000</td>\n",
       "      <td>0.400000</td>\n",
       "      <td>0.000000</td>\n",
       "      <td>0.000000</td>\n",
       "    </tr>\n",
       "    <tr>\n",
       "      <th>25%</th>\n",
       "      <td>3.000000</td>\n",
       "      <td>4.000000</td>\n",
       "      <td>90.200000</td>\n",
       "      <td>68.600000</td>\n",
       "      <td>437.700000</td>\n",
       "      <td>6.500000</td>\n",
       "      <td>15.500000</td>\n",
       "      <td>33.000000</td>\n",
       "      <td>2.700000</td>\n",
       "      <td>0.000000</td>\n",
       "      <td>0.000000</td>\n",
       "    </tr>\n",
       "    <tr>\n",
       "      <th>50%</th>\n",
       "      <td>4.000000</td>\n",
       "      <td>4.000000</td>\n",
       "      <td>91.600000</td>\n",
       "      <td>108.300000</td>\n",
       "      <td>664.200000</td>\n",
       "      <td>8.400000</td>\n",
       "      <td>19.300000</td>\n",
       "      <td>42.000000</td>\n",
       "      <td>4.000000</td>\n",
       "      <td>0.000000</td>\n",
       "      <td>0.520000</td>\n",
       "    </tr>\n",
       "    <tr>\n",
       "      <th>75%</th>\n",
       "      <td>7.000000</td>\n",
       "      <td>5.000000</td>\n",
       "      <td>92.900000</td>\n",
       "      <td>142.400000</td>\n",
       "      <td>713.900000</td>\n",
       "      <td>10.800000</td>\n",
       "      <td>22.800000</td>\n",
       "      <td>53.000000</td>\n",
       "      <td>4.900000</td>\n",
       "      <td>0.000000</td>\n",
       "      <td>6.570000</td>\n",
       "    </tr>\n",
       "    <tr>\n",
       "      <th>max</th>\n",
       "      <td>9.000000</td>\n",
       "      <td>9.000000</td>\n",
       "      <td>96.200000</td>\n",
       "      <td>291.300000</td>\n",
       "      <td>860.600000</td>\n",
       "      <td>56.100000</td>\n",
       "      <td>33.300000</td>\n",
       "      <td>100.000000</td>\n",
       "      <td>9.400000</td>\n",
       "      <td>6.400000</td>\n",
       "      <td>1090.840000</td>\n",
       "    </tr>\n",
       "  </tbody>\n",
       "</table>\n",
       "</div>"
      ],
      "text/plain": [
       "                X           Y        FFMC         DMC          DC         ISI  \\\n",
       "count  517.000000  517.000000  517.000000  517.000000  517.000000  517.000000   \n",
       "mean     4.669246    4.299807   90.644681  110.872340  547.940039    9.021663   \n",
       "std      2.313778    1.229900    5.520111   64.046482  248.066192    4.559477   \n",
       "min      1.000000    2.000000   18.700000    1.100000    7.900000    0.000000   \n",
       "25%      3.000000    4.000000   90.200000   68.600000  437.700000    6.500000   \n",
       "50%      4.000000    4.000000   91.600000  108.300000  664.200000    8.400000   \n",
       "75%      7.000000    5.000000   92.900000  142.400000  713.900000   10.800000   \n",
       "max      9.000000    9.000000   96.200000  291.300000  860.600000   56.100000   \n",
       "\n",
       "             temp          RH        wind        rain         area  \n",
       "count  517.000000  517.000000  517.000000  517.000000   517.000000  \n",
       "mean    18.889168   44.288201    4.017602    0.021663    12.847292  \n",
       "std      5.806625   16.317469    1.791653    0.295959    63.655818  \n",
       "min      2.200000   15.000000    0.400000    0.000000     0.000000  \n",
       "25%     15.500000   33.000000    2.700000    0.000000     0.000000  \n",
       "50%     19.300000   42.000000    4.000000    0.000000     0.520000  \n",
       "75%     22.800000   53.000000    4.900000    0.000000     6.570000  \n",
       "max     33.300000  100.000000    9.400000    6.400000  1090.840000  "
      ]
     },
     "execution_count": 60,
     "metadata": {},
     "output_type": "execute_result"
    }
   ],
   "source": [
    "df.describe()"
   ]
  },
  {
   "cell_type": "code",
   "execution_count": 61,
   "metadata": {},
   "outputs": [
    {
     "data": {
      "text/plain": [
       "(array([ 14.,  45.,  97.,  93.,  92., 113.,  19.,  26.,   5.,  13.]),\n",
       " array([0.4, 1.3, 2.2, 3.1, 4. , 4.9, 5.8, 6.7, 7.6, 8.5, 9.4]),\n",
       " <BarContainer object of 10 artists>)"
      ]
     },
     "execution_count": 61,
     "metadata": {},
     "output_type": "execute_result"
    },
    {
     "data": {
      "image/png": "[encoded data removed]",
      "text/plain": [
       "<Figure size 864x288 with 1 Axes>"
      ]
     },
     "metadata": {
      "needs_background": "light"
     },
     "output_type": "display_data"
    }
   ],
   "source": [
    "plt.hist(df['wind'])"
   ]
  },
  {
   "cell_type": "code",
   "execution_count": 62,
   "metadata": {},
   "outputs": [
    {
     "data": {
      "text/plain": [
       "(array([508.,   6.,   1.,   0.,   0.,   0.,   1.,   0.,   0.,   1.]),\n",
       " array([   0.   ,  109.084,  218.168,  327.252,  436.336,  545.42 ,\n",
       "         654.504,  763.588,  872.672,  981.756, 1090.84 ]),\n",
       " <BarContainer object of 10 artists>)"
      ]
     },
     "execution_count": 62,
     "metadata": {},
     "output_type": "execute_result"
    },
    {
     "data": {
      "image/png": "[encoded data removed]",
      "text/plain": [
       "<Figure size 864x288 with 1 Axes>"
      ]
     },
     "metadata": {
      "needs_background": "light"
     },
     "output_type": "display_data"
    }
   ],
   "source": [
    "plt.hist(df['area'])"
   ]
  },
  {
   "cell_type": "code",
   "execution_count": 63,
   "metadata": {},
   "outputs": [
    {
     "data": {
      "text/plain": [
       "(array([275.,  61.,  59.,  54.,  29.,  21.,   9.,   6.,   1.,   2.]),\n",
       " array([0.        , 0.69956196, 1.39912393, 2.09868589, 2.79824785,\n",
       "        3.49780981, 4.19737178, 4.89693374, 5.5964957 , 6.29605766,\n",
       "        6.99561963]),\n",
       " <BarContainer object of 10 artists>)"
      ]
     },
     "execution_count": 63,
     "metadata": {},
     "output_type": "execute_result"
    },
    {
     "data": {
      "image/png": "[encoded data removed]",
      "text/plain": [
       "<Figure size 864x288 with 1 Axes>"
      ]
     },
     "metadata": {
      "needs_background": "light"
     },
     "output_type": "display_data"
    }
   ],
   "source": [
    "plt.hist(np.log(df['area']+1))"
   ]
  },
  {
   "cell_type": "markdown",
   "metadata": {},
   "source": [
    "# Ignorability Assumption Test"
   ]
  },
  {
   "cell_type": "code",
   "execution_count": 64,
   "metadata": {},
   "outputs": [
    {
     "name": "stdout",
     "output_type": "stream",
     "text": [
      "0.04309550368287507\n"
     ]
    }
   ],
   "source": [
    "df.loc[df[\"month\"]==\"jan\",\"month\"]=1\n",
    "df.loc[df[\"month\"]==\"feb\",\"month\"]=2\n",
    "df.loc[df[\"month\"]==\"mar\",\"month\"]=3\n",
    "df.loc[df[\"month\"]==\"apr\",\"month\"]=4\n",
    "df.loc[df[\"month\"]==\"may\",\"month\"]=5\n",
    "df.loc[df[\"month\"]==\"jun\",\"month\"]=6\n",
    "df.loc[df[\"month\"]==\"jul\",\"month\"]=7\n",
    "df.loc[df[\"month\"]==\"aug\",\"month\"]=8\n",
    "df.loc[df[\"month\"]==\"sep\",\"month\"]=9\n",
    "df.loc[df[\"month\"]==\"oct\",\"month\"]=10\n",
    "df.loc[df[\"month\"]==\"nov\",\"month\"]=11\n",
    "df.loc[df[\"month\"]==\"dec\",\"month\"]=12\n",
    "\n",
    "A = np.array(df[\"wind\"])\n",
    "Y = np.array(df[\"area\"])\n",
    "Z = np.array(df[\"month\"])\n",
    "X = np.array(df[[\"temp\",\"RH\",\"rain\"]])\n",
    "\n",
    "\n",
    "UIAT = uiat.UniversalIgnorabilityAssumptionTest(cause=A,effect=Y,explorer=Z,covariates=X,dtype=\"continuous\",verbose=False)\n",
    "pvalue = UIAT.test()\n",
    "print(pvalue) # conclude the violation of ignorability assumption"
   ]
  },
  {
   "cell_type": "markdown",
   "metadata": {},
   "source": [
    "# Causal Inference using Machine Learning"
   ]
  },
  {
   "cell_type": "code",
   "execution_count": 65,
   "metadata": {},
   "outputs": [],
   "source": [
    "X,y = np.array(df[[\"wind\",\"temp\",\"RH\",\"rain\"]]), np.array(df[\"area\"])"
   ]
  },
  {
   "cell_type": "code",
   "execution_count": 66,
   "metadata": {},
   "outputs": [],
   "source": [
    "np.random.seed(1)\n",
    "train_idx=np.random.choice(517,517,replace=False)"
   ]
  },
  {
   "cell_type": "code",
   "execution_count": 67,
   "metadata": {},
   "outputs": [],
   "source": [
    "X_train = X[train_idx,]\n",
    "y_train = y[train_idx,]"
   ]
  },
  {
   "cell_type": "code",
   "execution_count": 68,
   "metadata": {},
   "outputs": [],
   "source": [
    "#Import libraries:\n",
    "import pandas as pd\n",
    "import numpy as np\n",
    "import xgboost as xgb\n",
    "from xgboost.sklearn import XGBClassifier\n",
    "from sklearn.model_selection import train_test_split\n",
    "from sklearn import metrics   #Additional scklearn functions\n",
    "\n",
    "import matplotlib.pylab as plt\n",
    "%matplotlib inline\n",
    "from matplotlib.pylab import rcParams\n",
    "rcParams['figure.figsize'] = 12, 4"
   ]
  },
  {
   "cell_type": "code",
   "execution_count": 69,
   "metadata": {},
   "outputs": [],
   "source": [
    "import xgboost as xgb\n",
    "from xgboost.sklearn import XGBRegressor\n",
    "# the fine-tuned XGBoost\n",
    "xgbt_regr = xgb.XGBRegressor(\n",
    "    learning_rate=0.1,\n",
    "    n_estimators=24,\n",
    "    max_depth=2,\n",
    "    min_child_weight=7,\n",
    "    gamma=0.6,\n",
    "    subsample=0.8,\n",
    "    colsample_bytree=0.75,\n",
    "    objective='reg:squarederror',\n",
    "    nthread=3,\n",
    "    scale_pos_weight=1,\n",
    "    reg_alpha=10**-6,\n",
    "    reg_lambda=1,\n",
    "    seed=1\n",
    "    )"
   ]
  },
  {
   "cell_type": "code",
   "execution_count": 70,
   "metadata": {},
   "outputs": [],
   "source": [
    "train=df.iloc[train_idx,]\n",
    "train.reset_index(drop=True,inplace=True)\n",
    "\n",
    "train['area']=np.log(train['area']+1)\n",
    "target = 'area'\n",
    "predictors = [\"wind\",\"temp\",\"RH\",\"rain\"]\n"
   ]
  },
  {
   "cell_type": "code",
   "execution_count": 71,
   "metadata": {},
   "outputs": [
    {
     "data": {
      "text/plain": [
       "XGBRegressor(base_score=0.5, booster='gbtree', colsample_bylevel=1,\n",
       "             colsample_bynode=1, colsample_bytree=0.75,\n",
       "             enable_categorical=False, gamma=0.6, gpu_id=-1,\n",
       "             importance_type=None, interaction_constraints='',\n",
       "             learning_rate=0.1, max_delta_step=0, max_depth=2,\n",
       "             min_child_weight=7, missing=nan, monotone_constraints='()',\n",
       "             n_estimators=24, n_jobs=3, nthread=3, num_parallel_tree=1,\n",
       "             predictor='auto', random_state=1, reg_alpha=1e-06, reg_lambda=1,\n",
       "             scale_pos_weight=1, seed=1, subsample=0.8, tree_method='exact',\n",
       "             validate_parameters=1, verbosity=None)"
      ]
     },
     "execution_count": 71,
     "metadata": {},
     "output_type": "execute_result"
    }
   ],
   "source": [
    "xgbt_regr.fit(train[predictors],train[target])"
   ]
  },
  {
   "cell_type": "code",
   "execution_count": 88,
   "metadata": {},
   "outputs": [],
   "source": [
    "#Estimating potential outcome functions\n",
    "\n",
    "import copy\n",
    "\n",
    "X_1 = copy.deepcopy(X)\n",
    "X_2 = copy.deepcopy(X)\n",
    "X_3 = copy.deepcopy(X)\n",
    "X_4 = copy.deepcopy(X)\n",
    "X_5 = copy.deepcopy(X)\n",
    "X_6 = copy.deepcopy(X)\n",
    "X_7 = copy.deepcopy(X)\n",
    "\n",
    "X_1[:,0] = 4.017602-3*1.791653 # average wind speed  - 3 * std(wind speed)\n",
    "X_2[:,0] = 4.017602-2*1.791653 # average wind speed  - 2 * std(wind speed)\n",
    "X_3[:,0] = 4.017602-1*1.791653 # average wind speed  - 1 * std(wind speed)\n",
    "X_4[:,0] = 4.017602            # average wind speed \n",
    "X_5[:,0] = 4.017602+1*1.791653 # average wind speed  + 1 * std(wind speed)\n",
    "X_6[:,0] = 4.017602+2*1.791653 # average wind speed  + 2 * std(wind speed)\n",
    "X_7[:,0] = 4.017602+3*1.791653 # average wind speed  + 3 * std(wind speed)\n",
    "\n",
    "pred1 = np.exp(xgbt_regr.predict(X_1))-1\n",
    "pred1[pred1<0,]=0\n",
    "\n",
    "pred2 = np.exp(xgbt_regr.predict(X_2))-1\n",
    "pred2[pred2<0,]=0\n",
    "\n",
    "pred3 = np.exp(xgbt_regr.predict(X_3))-1\n",
    "pred3[pred3<0,]=0\n",
    "\n",
    "pred4 = np.exp(xgbt_regr.predict(X_4))-1\n",
    "pred4[pred4<0,]=0\n",
    "\n",
    "pred5 = np.exp(xgbt_regr.predict(X_5))-1\n",
    "pred5[pred5<0,]=0\n",
    "\n",
    "pred6 = np.exp(xgbt_regr.predict(X_6))-1\n",
    "pred6[pred6<0,]=0\n",
    "\n",
    "pred7 = np.exp(xgbt_regr.predict(X_7))-1\n",
    "pred7[pred7<0,]=0"
   ]
  },
  {
   "cell_type": "code",
   "execution_count": 89,
   "metadata": {},
   "outputs": [
    {
     "name": "stdout",
     "output_type": "stream",
     "text": [
      "1.6006761\n",
      "0.00036732915868150425\n",
      "1.5631110268333783\n",
      "1.6382410926124225\n"
     ]
    }
   ],
   "source": [
    "print(np.mean(pred1))\n",
    "print(np.var(pred1)/517)\n",
    "print(np.mean(pred1)-1.96*np.sqrt(np.var(pred1)/517)) #Monte Carlo Confidence Intercal\n",
    "print(np.mean(pred1)+1.96*np.sqrt(np.var(pred1)/517))"
   ]
  },
  {
   "cell_type": "code",
   "execution_count": 90,
   "metadata": {},
   "outputs": [
    {
     "name": "stdout",
     "output_type": "stream",
     "text": [
      "1.6006761\n",
      "0.00036732915868150425\n",
      "1.5631110268333783\n",
      "1.6382410926124225\n"
     ]
    }
   ],
   "source": [
    "print(np.mean(pred2))\n",
    "print(np.var(pred2)/517)\n",
    "print(np.mean(pred2)-1.96*np.sqrt(np.var(pred2)/517)) #Monte Carlo Confidence Intercal\n",
    "print(np.mean(pred2)+1.96*np.sqrt(np.var(pred2)/517))"
   ]
  },
  {
   "cell_type": "code",
   "execution_count": 91,
   "metadata": {},
   "outputs": [
    {
     "name": "stdout",
     "output_type": "stream",
     "text": [
      "1.7444763\n",
      "0.00039639189925830184\n",
      "1.7054535157922772\n",
      "1.7834991209264728\n"
     ]
    }
   ],
   "source": [
    "print(np.mean(pred3))\n",
    "print(np.var(pred3)/517)\n",
    "print(np.mean(pred3)-1.96*np.sqrt(np.var(pred3)/517)) #Monte Carlo Confidence Intercal\n",
    "print(np.mean(pred3)+1.96*np.sqrt(np.var(pred3)/517))"
   ]
  },
  {
   "cell_type": "code",
   "execution_count": 92,
   "metadata": {},
   "outputs": [
    {
     "name": "stdout",
     "output_type": "stream",
     "text": [
      "2.0172086\n",
      "0.0008747237563363819\n",
      "1.9592401470159653\n",
      "2.07517700538882\n"
     ]
    }
   ],
   "source": [
    "print(np.mean(pred4))\n",
    "print(np.var(pred4)/517)\n",
    "print(np.mean(pred4)-1.96*np.sqrt(np.var(pred4)/517)) #Monte Carlo Confidence Intercal\n",
    "print(np.mean(pred4)+1.96*np.sqrt(np.var(pred4)/517))"
   ]
  },
  {
   "cell_type": "code",
   "execution_count": 93,
   "metadata": {},
   "outputs": [
    {
     "name": "stdout",
     "output_type": "stream",
     "text": [
      "1.8823011\n",
      "0.001167347514191264\n",
      "1.8153348154817532\n",
      "1.949267368813901\n"
     ]
    }
   ],
   "source": [
    "print(np.mean(pred5))\n",
    "print(np.var(pred5)/517)\n",
    "print(np.mean(pred5)-1.96*np.sqrt(np.var(pred5)/517)) #Monte Carlo Confidence Intercal\n",
    "print(np.mean(pred5)+1.96*np.sqrt(np.var(pred5)/517))"
   ]
  },
  {
   "cell_type": "code",
   "execution_count": 94,
   "metadata": {},
   "outputs": [
    {
     "name": "stdout",
     "output_type": "stream",
     "text": [
      "2.2863452\n",
      "0.0016662602959564622\n",
      "2.206338334046439\n",
      "2.36635215286152\n"
     ]
    }
   ],
   "source": [
    "print(np.mean(pred6))\n",
    "print(np.var(pred6)/517)\n",
    "print(np.mean(pred6)-1.96*np.sqrt(np.var(pred6)/517)) #Monte Carlo Confidence Intercal\n",
    "print(np.mean(pred6)+1.96*np.sqrt(np.var(pred6)/517))"
   ]
  },
  {
   "cell_type": "code",
   "execution_count": 95,
   "metadata": {},
   "outputs": [
    {
     "name": "stdout",
     "output_type": "stream",
     "text": [
      "3.28301\n",
      "0.0026995206478716556\n",
      "3.181174459500468\n",
      "3.3848455524013876\n"
     ]
    }
   ],
   "source": [
    "print(np.mean(pred7))\n",
    "print(np.var(pred7)/517)\n",
    "print(np.mean(pred7)-1.96*np.sqrt(np.var(pred7)/517)) #Monte Carlo Confidence Intercal\n",
    "print(np.mean(pred7)+1.96*np.sqrt(np.var(pred7)/517))"
   ]
  }
 ],
 "metadata": {
  "kernelspec": {
   "display_name": "Python 3",
   "language": "python",
   "name": "python3"
  },
  "language_info": {
   "codemirror_mode": {
    "name": "ipython",
    "version": 3
   },
   "file_extension": ".py",
   "mimetype": "text/x-python",
   "name": "python",
   "nbconvert_exporter": "python",
   "pygments_lexer": "ipython3",
   "version": "3.8.8"
  },
  "varInspector": {
   "cols": {
    "lenName": 16,
    "lenType": 16,
    "lenVar": 40
   },
   "kernels_config": {
    "python": {
     "delete_cmd_postfix": "",
     "delete_cmd_prefix": "del ",
     "library": "var_list.py",
     "varRefreshCmd": "print(var_dic_list())"
    },
    "r": {
     "delete_cmd_postfix": ") ",
     "delete_cmd_prefix": "rm(",
     "library": "var_list.r",
     "varRefreshCmd": "cat(var_dic_list()) "
    }
   },
   "types_to_exclude": [
    "module",
    "function",
    "builtin_function_or_method",
    "instance",
    "_Feature"
   ],
   "window_display": true
  }
 },
 "nbformat": 4,
 "nbformat_minor": 4
}
