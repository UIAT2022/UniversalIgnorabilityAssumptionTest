{
 "cells": [
  {
   "cell_type": "markdown",
   "metadata": {},
   "source": [
    "# Comliance Class Model case - Scenario 1~4"
   ]
  },
  {
   "cell_type": "markdown",
   "metadata": {},
   "source": [
    "### Notice\n",
    "\n",
    "Before you implement below codes, you should confirm that R is installed in your PC."
   ]
  },
  {
   "cell_type": "code",
   "execution_count": 2,
   "metadata": {},
   "outputs": [
    {
     "name": "stdout",
     "output_type": "stream",
     "text": [
      "Requirement already satisfied: packages in c:\\programdata\\anaconda3\\lib\\site-packages (0.1.0)\n",
      "Requirement already satisfied: rpy2 in c:\\programdata\\anaconda3\\lib\\site-packages (3.4.5)\n",
      "Requirement already satisfied: cffi>=1.10.0 in c:\\programdata\\anaconda3\\lib\\site-packages (from rpy2) (1.14.5)\n",
      "Requirement already satisfied: pytz in c:\\programdata\\anaconda3\\lib\\site-packages (from rpy2) (2021.1)\n",
      "Requirement already satisfied: jinja2 in c:\\programdata\\anaconda3\\lib\\site-packages (from rpy2) (2.11.3)\n",
      "Requirement already satisfied: tzlocal in c:\\programdata\\anaconda3\\lib\\site-packages (from rpy2) (4.0.1)\n",
      "Requirement already satisfied: pycparser in c:\\programdata\\anaconda3\\lib\\site-packages (from cffi>=1.10.0->rpy2) (2.20)\n",
      "Requirement already satisfied: MarkupSafe>=0.23 in c:\\programdata\\anaconda3\\lib\\site-packages (from jinja2->rpy2) (1.1.1)\n",
      "Requirement already satisfied: backports.zoneinfo in c:\\programdata\\anaconda3\\lib\\site-packages (from tzlocal->rpy2) (0.2.1)\n",
      "Requirement already satisfied: pytz-deprecation-shim in c:\\programdata\\anaconda3\\lib\\site-packages (from tzlocal->rpy2) (0.1.0.post0)\n",
      "Requirement already satisfied: tzdata in c:\\programdata\\anaconda3\\lib\\site-packages (from tzlocal->rpy2) (2021.4)\n"
     ]
    }
   ],
   "source": [
    "!pip install packages rpy2 "
   ]
  },
  {
   "cell_type": "code",
   "execution_count": 3,
   "metadata": {},
   "outputs": [],
   "source": [
    "import uiat # it will takes some time."
   ]
  },
  {
   "cell_type": "code",
   "execution_count": 4,
   "metadata": {},
   "outputs": [],
   "source": [
    "import numpy as np"
   ]
  },
  {
   "cell_type": "markdown",
   "metadata": {},
   "source": [
    "### Scenario 1"
   ]
  },
  {
   "cell_type": "code",
   "execution_count": 5,
   "metadata": {},
   "outputs": [],
   "source": [
    "np.random.seed(1)\n",
    "\n",
    "COUNT1 = 0 # number of rejection in scenario 1\n",
    "for i in range(1000):\n",
    "    \n",
    "    n = 1000 \n",
    "    k0_co = 0.8\n",
    "    k1_co = 1\n",
    "    k0_at = 0.8\n",
    "    k1_at = 1\n",
    "    k0_nt = 0.8\n",
    "    k1_nt = 1\n",
    "\n",
    "    a0 = 0 #changeable\n",
    "    a1 = 0\n",
    "\n",
    "    X = np.random.binomial(1,0.5,size=n)\n",
    "\n",
    "    mu_Z = 1/(1+np.exp(1-2*X))\n",
    "    Z = np.random.binomial(1,mu_Z,size=n)\n",
    "\n",
    "    p_at = np.exp(-2.5+3.5*X)/(1+np.exp(-2.5+3.5*X)+np.exp(-2.5+3.5*X))\n",
    "    p_nt = np.exp(-2.5+3.5*X)/(1+np.exp(-2.5+3.5*X)+np.exp(-2.5+3.5*X))\n",
    "    p_co = 1/(1+np.exp(-2.5+3.5*X)+np.exp(-2.5+3.5*X))\n",
    "\n",
    "    C=[]\n",
    "    for j in range(n):\n",
    "        C.append(np.random.choice([\"co\",\"at\",\"nt\"], size=1, replace=True, p=[p_at[j],p_nt[j],p_co[j]])[0])\n",
    "    C=np.array(C)\n",
    "\n",
    "    A = np.repeat(0,n)\n",
    "    A[C==\"at\"] = 1\n",
    "    A[(C==\"co\")*(Z==1)] = 1\n",
    "\n",
    "    Y = np.random.normal(0,1,n)\n",
    "    for k in range(n):\n",
    "\n",
    "        if C[k]==\"co\":\n",
    "            mu_y = k0_co+k1_co*X[k]+(a0+a1*X[k])*A[k]\n",
    "            Y[k] = np.random.normal(mu_y,1,1)[0]\n",
    "        elif C[k] == \"at\":\n",
    "            mu_y = k0_at+k1_at*X[k]\n",
    "            Y[k] = np.random.normal(mu_y,1,1)[0]\n",
    "        else:\n",
    "            mu_y = k0_nt+k1_nt*X[k]\n",
    "            Y[k] = np.random.normal(mu_y,1,1)[0]\n",
    "\n",
    "    UIAT = uiat.UniversalIgnorabilityAssumptionTest(cause=A, effect=Y, explorer=Z, covariates=X, level=0.05, dtype=\"mixed\",verbose=False)\n",
    "    pvalue = UIAT.test()\n",
    "    \n",
    "    if pvalue<=0.05:\n",
    "        COUNT1 = COUNT1+1   "
   ]
  },
  {
   "cell_type": "code",
   "execution_count": 6,
   "metadata": {},
   "outputs": [
    {
     "data": {
      "text/plain": [
       "50"
      ]
     },
     "execution_count": 6,
     "metadata": {},
     "output_type": "execute_result"
    }
   ],
   "source": [
    "COUNT1"
   ]
  },
  {
   "cell_type": "markdown",
   "metadata": {},
   "source": [
    "### Scenario 2"
   ]
  },
  {
   "cell_type": "code",
   "execution_count": 7,
   "metadata": {},
   "outputs": [],
   "source": [
    "np.random.seed(1)\n",
    "\n",
    "COUNT2 = 0 # number of rejection in scenario 2\n",
    "for i in range(1000):\n",
    "    \n",
    "    n = 1000 \n",
    "    k0_co = 0.3\n",
    "    k1_co = 1\n",
    "    k0_at = 0.8\n",
    "    k1_at = 1\n",
    "    k0_nt = 0.3\n",
    "    k1_nt = 1\n",
    "\n",
    "    a0 = 0 #changeable\n",
    "    a1 = 0\n",
    "\n",
    "    X = np.random.binomial(1,0.5,size=n)\n",
    "\n",
    "    mu_Z = 1/(1+np.exp(1-2*X))\n",
    "    Z = np.random.binomial(1,mu_Z,size=n)\n",
    "\n",
    "    p_at = np.exp(-2.5+3.5*X)/(1+np.exp(-2.5+3.5*X)+np.exp(-2.5+3.5*X))\n",
    "    p_nt = np.exp(-2.5+3.5*X)/(1+np.exp(-2.5+3.5*X)+np.exp(-2.5+3.5*X))\n",
    "    p_co = 1/(1+np.exp(-2.5+3.5*X)+np.exp(-2.5+3.5*X))\n",
    "\n",
    "    C=[]\n",
    "    for j in range(n):\n",
    "        C.append(np.random.choice([\"co\",\"at\",\"nt\"], size=1, replace=True, p=[p_at[j],p_nt[j],p_co[j]])[0])\n",
    "    C=np.array(C)\n",
    "\n",
    "    A = np.repeat(0,n)\n",
    "    A[C==\"at\"] = 1\n",
    "    A[(C==\"co\")*(Z==1)] = 1\n",
    "\n",
    "    Y = np.random.normal(0,1,n)\n",
    "    for k in range(n):\n",
    "\n",
    "        if C[k]==\"co\":\n",
    "            mu_y = k0_co+k1_co*X[k]+(a0+a1*X[k])*A[k]\n",
    "            Y[k] = np.random.normal(mu_y,1,1)[0]\n",
    "        elif C[k] == \"at\":\n",
    "            mu_y = k0_at+k1_at*X[k]\n",
    "            Y[k] = np.random.normal(mu_y,1,1)[0]\n",
    "        else:\n",
    "            mu_y = k0_nt+k1_nt*X[k]\n",
    "            Y[k] = np.random.normal(mu_y,1,1)[0]\n",
    "            \n",
    "    UIAT = uiat.UniversalIgnorabilityAssumptionTest(cause=A, effect=Y, explorer=Z, covariates=X, level=0.05, dtype=\"mixed\",verbose=False)\n",
    "    pvalue = UIAT.test()\n",
    "    \n",
    "    if pvalue<=0.01:\n",
    "        COUNT2 = COUNT2+1   "
   ]
  },
  {
   "cell_type": "code",
   "execution_count": 8,
   "metadata": {},
   "outputs": [
    {
     "data": {
      "text/plain": [
       "126"
      ]
     },
     "execution_count": 8,
     "metadata": {},
     "output_type": "execute_result"
    }
   ],
   "source": [
    "COUNT2"
   ]
  },
  {
   "cell_type": "markdown",
   "metadata": {},
   "source": [
    "### Scenario 3"
   ]
  },
  {
   "cell_type": "code",
   "execution_count": 9,
   "metadata": {},
   "outputs": [],
   "source": [
    "np.random.seed(1)\n",
    "\n",
    "COUNT3 = 0 # number of rejection in scenario 3\n",
    "for i in range(1000):\n",
    "    \n",
    "    n = 1000 \n",
    "    k0_co = 0.3\n",
    "    k1_co = 1\n",
    "    k0_at = 0.8\n",
    "    k1_at = 0\n",
    "    k0_nt = 0.3\n",
    "    k1_nt = 1\n",
    "\n",
    "    a0 = 0 #changeable\n",
    "    a1 = -1\n",
    "\n",
    "    X = np.random.binomial(1,0.5,size=n)\n",
    "\n",
    "    mu_Z = 1/(1+np.exp(1-2*X))\n",
    "    Z = np.random.binomial(1,mu_Z,size=n)\n",
    "\n",
    "    p_at = np.exp(-2.5+3.5*X)/(1+np.exp(-2.5+3.5*X)+np.exp(-2.5+3.5*X))\n",
    "    p_nt = np.exp(-2.5+3.5*X)/(1+np.exp(-2.5+3.5*X)+np.exp(-2.5+3.5*X))\n",
    "    p_co = 1/(1+np.exp(-2.5+3.5*X)+np.exp(-2.5+3.5*X))\n",
    "\n",
    "    C=[]\n",
    "    for j in range(n):\n",
    "        C.append(np.random.choice([\"co\",\"at\",\"nt\"], size=1, replace=True, p=[p_at[j],p_nt[j],p_co[j]])[0])\n",
    "    C=np.array(C)\n",
    "\n",
    "    A = np.repeat(0,n)\n",
    "    A[C==\"at\"] = 1\n",
    "    A[(C==\"co\")*(Z==1)] = 1\n",
    "\n",
    "    Y = np.random.normal(0,1,n)\n",
    "    for k in range(n):\n",
    "\n",
    "        if C[k]==\"co\":\n",
    "            mu_y = k0_co+k1_co*X[k]+(a0+a1*X[k])*A[k]\n",
    "            Y[k] = np.random.normal(mu_y,1,1)[0]\n",
    "        elif C[k] == \"at\":\n",
    "            mu_y = k0_at+k1_at*X[k]\n",
    "            Y[k] = np.random.normal(mu_y,1,1)[0]\n",
    "        else:\n",
    "            mu_y = k0_nt+k1_nt*X[k]\n",
    "            Y[k] = np.random.normal(mu_y,1,1)[0]\n",
    "            \n",
    "    UIAT = uiat.UniversalIgnorabilityAssumptionTest(cause=A, effect=Y, explorer=Z, covariates=X, level=0.05, dtype=\"mixed\",verbose=False)\n",
    "    pvalue = UIAT.test()\n",
    "\n",
    "    if pvalue<=0.05:\n",
    "        COUNT3 = COUNT3+1   "
   ]
  },
  {
   "cell_type": "code",
   "execution_count": 10,
   "metadata": {},
   "outputs": [
    {
     "data": {
      "text/plain": [
       "288"
      ]
     },
     "execution_count": 10,
     "metadata": {},
     "output_type": "execute_result"
    }
   ],
   "source": [
    "COUNT3"
   ]
  },
  {
   "cell_type": "markdown",
   "metadata": {},
   "source": [
    "### Scenario 4"
   ]
  },
  {
   "cell_type": "code",
   "execution_count": 11,
   "metadata": {},
   "outputs": [],
   "source": [
    "np.random.seed(1)\n",
    "\n",
    "COUNT4 = 0 # number of rejection in scenario 4\n",
    "for i in range(1000):\n",
    "    \n",
    "    n = 1000 \n",
    "    k0_co = 0.3\n",
    "    k1_co = 1\n",
    "    k0_at = 1.5\n",
    "    k1_at = 1\n",
    "    k0_nt = -1\n",
    "    k1_nt = 2\n",
    "\n",
    "    a0 = 0 #changeable\n",
    "    a1 = -1\n",
    "\n",
    "    X = np.random.binomial(1,0.5,size=n)\n",
    "\n",
    "    mu_Z = 1/(1+np.exp(1-2*X))\n",
    "    Z = np.random.binomial(1,mu_Z,size=n)\n",
    "\n",
    "    p_at = np.exp(-2.5+3.5*X)/(1+np.exp(-2.5+3.5*X)+np.exp(-2.5+3.5*X))\n",
    "    p_nt = np.exp(-2.5+3.5*X)/(1+np.exp(-2.5+3.5*X)+np.exp(-2.5+3.5*X))\n",
    "    p_co = 1/(1+np.exp(-2.5+3.5*X)+np.exp(-2.5+3.5*X))\n",
    "\n",
    "    C=[]\n",
    "    for j in range(n):\n",
    "        C.append(np.random.choice([\"co\",\"at\",\"nt\"], size=1, replace=True, p=[p_at[j],p_nt[j],p_co[j]])[0])\n",
    "    C=np.array(C)\n",
    "\n",
    "    A = np.repeat(0,n)\n",
    "    A[C==\"at\"] = 1\n",
    "    A[(C==\"co\")*(Z==1)] = 1\n",
    "\n",
    "    Y = np.random.normal(0,1,n)\n",
    "    for k in range(n):\n",
    "\n",
    "        if C[k]==\"co\":\n",
    "            mu_y = k0_co+k1_co*X[k]+(a0+a1*X[k])*A[k]\n",
    "            Y[k] = np.random.normal(mu_y,1,1)[0]\n",
    "        elif C[k] == \"at\":\n",
    "            mu_y = k0_at+k1_at*X[k]\n",
    "            Y[k] = np.random.normal(mu_y,1,1)[0]\n",
    "        else:\n",
    "            mu_y = k0_nt+k1_nt*X[k]\n",
    "            Y[k] = np.random.normal(mu_y,1,1)[0]\n",
    "            \n",
    "    UIAT = uiat.UniversalIgnorabilityAssumptionTest(cause=A, effect=Y, explorer=Z, covariates=X, level=0.05, dtype=\"mixed\",verbose=False)\n",
    "    pvalue = UIAT.test()\n",
    "\n",
    "    if pvalue<=0.01:\n",
    "        COUNT4 = COUNT4+1   "
   ]
  },
  {
   "cell_type": "code",
   "execution_count": 12,
   "metadata": {},
   "outputs": [
    {
     "data": {
      "text/plain": [
       "999"
      ]
     },
     "execution_count": 12,
     "metadata": {},
     "output_type": "execute_result"
    }
   ],
   "source": [
    "COUNT4"
   ]
  },
  {
   "cell_type": "markdown",
   "metadata": {},
   "source": [
    "### Scenario 5"
   ]
  },
  {
   "cell_type": "code",
   "execution_count": 13,
   "metadata": {},
   "outputs": [],
   "source": [
    "np.random.seed(1)\n",
    "\n",
    "COUNT5 = 0 # number of rejection in scenario 5\n",
    "for i in range(1000):\n",
    "    \n",
    "    n = 1000 \n",
    "    k0_co = 0.8\n",
    "    k1_co = 1\n",
    "    k0_at = 0.8\n",
    "    k1_at = 1\n",
    "    k0_nt = 0.8\n",
    "    k1_nt = 1\n",
    "    k0_de = 0.8\n",
    "    k1_de = 1\n",
    "\n",
    "    a0 = 0 #changeable\n",
    "    a1 = 0\n",
    "\n",
    "    X = np.random.binomial(1,0.5,size=n)\n",
    "\n",
    "    mu_Z = 1/(1+np.exp(1-2*X))\n",
    "    Z = np.random.binomial(1,mu_Z,size=n)\n",
    "\n",
    "    p_at = np.exp(-2.5+3.5*X)/(1+np.exp(-2.5+3.5*X)+np.exp(-2.5+3.5*X))\n",
    "    p_nt = np.exp(-2.5+3.5*X)/(1+np.exp(-2.5+3.5*X)+np.exp(-2.5+3.5*X))\n",
    "    p_co = 0.75/(1+np.exp(-2.5+3.5*X)+np.exp(-2.5+3.5*X))\n",
    "    p_de = 0.25/(1+np.exp(-2.5+3.5*X)+np.exp(-2.5+3.5*X))\n",
    "    \n",
    "\n",
    "    C=[]\n",
    "    for j in range(n):\n",
    "        C.append(np.random.choice([\"co\",\"at\",\"nt\",\"de\"], size=1, replace=True, p=[p_at[j],p_nt[j],p_co[j],p_de[j]])[0])\n",
    "    C=np.array(C)\n",
    "\n",
    "    A = np.repeat(0,n)\n",
    "    A[C==\"at\"] = 1\n",
    "    A[(C==\"co\")*(Z==1)] = 1\n",
    "    A[(C==\"de\")*(Z==0)] = 1\n",
    "\n",
    "    Y = np.random.normal(0,1,n)\n",
    "    for k in range(n):\n",
    "\n",
    "        if C[k]==\"co\":\n",
    "            mu_y = k0_co+k1_co*X[k]+(a0+a1*X[k])*A[k]\n",
    "            Y[k] = np.random.normal(mu_y,1,1)[0]\n",
    "        elif C[k] == \"at\":\n",
    "            mu_y = k0_at+k1_at*X[k]\n",
    "            Y[k] = np.random.normal(mu_y,1,1)[0]\n",
    "        elif C[k] == \"nt\":\n",
    "            mu_y = k0_nt+k1_nt*X[k]\n",
    "            Y[k] = np.random.normal(mu_y,1,1)[0]\n",
    "        else:\n",
    "            mu_y = k0_de+k1_de*X[k]\n",
    "            Y[k] = np.random.normal(mu_y,1,1)[0]\n",
    "            \n",
    "    UIAT = uiat.UniversalIgnorabilityAssumptionTest(cause=A, effect=Y, explorer=Z, covariates=X, level=0.05, dtype=\"mixed\",verbose=False)\n",
    "    pvalue = UIAT.test()\n",
    "\n",
    "    if pvalue<=0.05:\n",
    "        COUNT5 = COUNT5+1   "
   ]
  },
  {
   "cell_type": "code",
   "execution_count": 14,
   "metadata": {},
   "outputs": [
    {
     "data": {
      "text/plain": [
       "43"
      ]
     },
     "execution_count": 14,
     "metadata": {},
     "output_type": "execute_result"
    }
   ],
   "source": [
    "COUNT5"
   ]
  }
 ],
 "metadata": {
  "kernelspec": {
   "display_name": "Python 3",
   "language": "python",
   "name": "python3"
  },
  "language_info": {
   "codemirror_mode": {
    "name": "ipython",
    "version": 3
   },
   "file_extension": ".py",
   "mimetype": "text/x-python",
   "name": "python",
   "nbconvert_exporter": "python",
   "pygments_lexer": "ipython3",
   "version": "3.8.8"
  },
  "varInspector": {
   "cols": {
    "lenName": 16,
    "lenType": 16,
    "lenVar": 40
   },
   "kernels_config": {
    "python": {
     "delete_cmd_postfix": "",
     "delete_cmd_prefix": "del ",
     "library": "var_list.py",
     "varRefreshCmd": "print(var_dic_list())"
    },
    "r": {
     "delete_cmd_postfix": ") ",
     "delete_cmd_prefix": "rm(",
     "library": "var_list.r",
     "varRefreshCmd": "cat(var_dic_list()) "
    }
   },
   "position": {
    "height": "330.719px",
    "left": "1549.44px",
    "right": "20px",
    "top": "216.984px",
    "width": "350px"
   },
   "types_to_exclude": [
    "module",
    "function",
    "builtin_function_or_method",
    "instance",
    "_Feature"
   ],
   "window_display": true
  }
 },
 "nbformat": 4,
 "nbformat_minor": 4
}
